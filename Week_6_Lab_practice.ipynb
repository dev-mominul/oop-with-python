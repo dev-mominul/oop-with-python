{
  "nbformat": 4,
  "nbformat_minor": 0,
  "metadata": {
    "colab": {
      "name": "Week 6 Lab practice.ipynb",
      "provenance": [],
      "authorship_tag": "ABX9TyMAHW9vyGUHFnoz0UDA8jkP",
      "include_colab_link": true
    },
    "kernelspec": {
      "name": "python3",
      "display_name": "Python 3"
    },
    "language_info": {
      "name": "python"
    }
  },
  "cells": [
    {
      "cell_type": "markdown",
      "metadata": {
        "id": "view-in-github",
        "colab_type": "text"
      },
      "source": [
        "<a href=\"https://colab.research.google.com/github/dev-shuvo/oop-with-python/blob/main/Week_6_Lab_practice.ipynb\" target=\"_parent\"><img src=\"https://colab.research.google.com/assets/colab-badge.svg\" alt=\"Open In Colab\"/></a>"
      ]
    },
    {
      "cell_type": "code",
      "metadata": {
        "colab": {
          "base_uri": "https://localhost:8080/"
        },
        "id": "bHL4GNDgb0qT",
        "outputId": "7b55ede8-8913-42f9-fe0c-bff0580cded0"
      },
      "source": [
        "stack = []\n",
        "\n",
        "for i in range(5):\n",
        "  n = input(\"Insert en element into stack: \")\n",
        "  stack.append(n)\n",
        "\n",
        "stack"
      ],
      "execution_count": null,
      "outputs": [
        {
          "name": "stdout",
          "output_type": "stream",
          "text": [
            "Insert en element into stack: a\n",
            "Insert en element into stack: b\n",
            "Insert en element into stack: c\n",
            "Insert en element into stack: d\n",
            "Insert en element into stack: e\n"
          ]
        },
        {
          "output_type": "execute_result",
          "data": {
            "text/plain": [
              "['a', 'b', 'c', 'd', 'e']"
            ]
          },
          "metadata": {},
          "execution_count": 6
        }
      ]
    },
    {
      "cell_type": "code",
      "metadata": {
        "colab": {
          "base_uri": "https://localhost:8080/",
          "height": 35
        },
        "id": "u6AHEL2gfw3c",
        "outputId": "91bd1142-b46e-495b-d90d-3b2c0ef1b348"
      },
      "source": [
        "stack.pop()"
      ],
      "execution_count": 7,
      "outputs": [
        {
          "output_type": "execute_result",
          "data": {
            "application/vnd.google.colaboratory.intrinsic+json": {
              "type": "string"
            },
            "text/plain": [
              "'e'"
            ]
          },
          "metadata": {},
          "execution_count": 7
        }
      ]
    },
    {
      "cell_type": "code",
      "metadata": {
        "colab": {
          "base_uri": "https://localhost:8080/"
        },
        "id": "8hQp8rsAf6gX",
        "outputId": "256f07ee-d392-400d-bda8-923a1fbfa7ee"
      },
      "source": [
        "stack"
      ],
      "execution_count": 8,
      "outputs": [
        {
          "output_type": "execute_result",
          "data": {
            "text/plain": [
              "['a', 'b', 'c', 'd']"
            ]
          },
          "metadata": {},
          "execution_count": 8
        }
      ]
    },
    {
      "cell_type": "code",
      "metadata": {
        "colab": {
          "base_uri": "https://localhost:8080/"
        },
        "id": "15Rvw8PzgePj",
        "outputId": "3e06746e-0b58-47c9-dd9e-d50ffcecd7ed"
      },
      "source": [
        "list = [item for item in range (1,6)]\n",
        "list"
      ],
      "execution_count": 10,
      "outputs": [
        {
          "output_type": "execute_result",
          "data": {
            "text/plain": [
              "[1, 2, 3, 4, 5]"
            ]
          },
          "metadata": {},
          "execution_count": 10
        }
      ]
    },
    {
      "cell_type": "code",
      "metadata": {
        "colab": {
          "base_uri": "https://localhost:8080/"
        },
        "id": "PjBMxBpfgugP",
        "outputId": "e53392b5-42f1-4411-ec82-9942f6f70ee0"
      },
      "source": [
        "list2 = [item * 3 for item in range(1, 6)]\n",
        "list2"
      ],
      "execution_count": 13,
      "outputs": [
        {
          "output_type": "execute_result",
          "data": {
            "text/plain": [
              "[3, 6, 9, 12, 15]"
            ]
          },
          "metadata": {},
          "execution_count": 13
        }
      ]
    },
    {
      "cell_type": "code",
      "metadata": {
        "colab": {
          "base_uri": "https://localhost:8080/"
        },
        "id": "PLqrsgwJhU72",
        "outputId": "f0d805d7-95f9-4bad-dda5-cf1c80ff1bc9"
      },
      "source": [
        "list3 = [i for i in range(1,11) if i%2 == 0]\n",
        "list3"
      ],
      "execution_count": 14,
      "outputs": [
        {
          "output_type": "execute_result",
          "data": {
            "text/plain": [
              "[2, 4, 6, 8, 10]"
            ]
          },
          "metadata": {},
          "execution_count": 14
        }
      ]
    }
  ]
}
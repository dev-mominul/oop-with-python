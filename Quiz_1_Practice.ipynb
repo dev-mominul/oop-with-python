{
  "nbformat": 4,
  "nbformat_minor": 0,
  "metadata": {
    "colab": {
      "name": "Quiz 1 Practice",
      "provenance": [],
      "collapsed_sections": [],
      "include_colab_link": true
    },
    "kernelspec": {
      "name": "python3",
      "display_name": "Python 3"
    },
    "language_info": {
      "name": "python"
    }
  },
  "cells": [
    {
      "cell_type": "markdown",
      "metadata": {
        "id": "view-in-github",
        "colab_type": "text"
      },
      "source": [
        "<a href=\"https://colab.research.google.com/github/dev-shuvo/oop-with-python/blob/main/Quiz_1_Practice.ipynb\" target=\"_parent\"><img src=\"https://colab.research.google.com/assets/colab-badge.svg\" alt=\"Open In Colab\"/></a>"
      ]
    },
    {
      "cell_type": "code",
      "metadata": {
        "colab": {
          "base_uri": "https://localhost:8080/"
        },
        "id": "TCy8AhbmPwpA",
        "outputId": "9a948eda-6676-45a5-e2fc-f491667a4c3d"
      },
      "source": [
        " print('Welcome', 'to', 'Python!)"
      ],
      "execution_count": null,
      "outputs": [
        {
          "output_type": "stream",
          "name": "stdout",
          "text": [
            "Welcome to Python!\n"
          ]
        }
      ]
    },
    {
      "cell_type": "code",
      "metadata": {
        "colab": {
          "base_uri": "https://localhost:8080/"
        },
        "id": "MZtmKVA-QoaS",
        "outputId": "aaf4847f-3bb9-4bde-b5ee-47c4a1cfbba1"
      },
      "source": [
        " print('Welcome', 'to', 'Python!')"
      ],
      "execution_count": null,
      "outputs": [
        {
          "output_type": "stream",
          "name": "stdout",
          "text": [
            "Welcome to Python!\n"
          ]
        }
      ]
    },
    {
      "cell_type": "markdown",
      "metadata": {
        "id": "sVQwzqt2jHuy"
      },
      "source": [
        "**Input from user and declare grade with if elif else statement**"
      ]
    },
    {
      "cell_type": "code",
      "metadata": {
        "colab": {
          "base_uri": "https://localhost:8080/"
        },
        "id": "OTZDp_N5jFXR",
        "outputId": "c72b3c25-f126-4c6f-e3c9-aa0b59a04c86"
      },
      "source": [
        "grade = input (\"Please enter obtained mark: \")\n",
        "grade = int(grade)\n",
        "\n",
        "if grade >= 90:\n",
        "    print('Grade is A')\n",
        "elif grade >= 80:\n",
        "    print('Grade is B')\n",
        "elif grade >= 70:\n",
        "    print('Grade is C')\n",
        "elif grade >= 60:\n",
        "    print('Grade is D')\n",
        "else:\n",
        "    print('Grade is F')"
      ],
      "execution_count": 3,
      "outputs": [
        {
          "output_type": "stream",
          "name": "stdout",
          "text": [
            "Please enter obtained mark: 77\n",
            "Grade is C\n"
          ]
        }
      ]
    }
  ]
}